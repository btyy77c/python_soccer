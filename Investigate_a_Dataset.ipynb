{
 "cells": [
  {
   "cell_type": "markdown",
   "metadata": {},
   "source": [
    "# Project: Investigating Soccer Player Interceptions\n",
    "\n",
    "## Table of Contents\n",
    "<ul>\n",
    "<li><a href=\"#intro\">Introduction</a></li>\n",
    "<li><a href=\"#wrangling\">Data Wrangling</a></li>\n",
    "<li><a href=\"#eda\">Exploratory Data Analysis</a></li>\n",
    "<li><a href=\"#conclusions\">Conclusions</a></li>\n",
    "</ul>"
   ]
  },
  {
   "cell_type": "markdown",
   "metadata": {},
   "source": [
    "<a id='intro'></a>\n",
    "## Introduction\n",
    "\n",
    "> This project will check to see if soccer player interceptions have any type of relationship with a player’s preferred foot, player penalties, or a player’s age during a game. \n",
    "\n",
    "### Dataset\n",
    "\n",
    "> The data for this project was obtained from a Udacity sqlite database (https://docs.google.com/document/d/e/2PACX-1vTlVmknRRnfy_4eTrjw5hYGaiQim5ctr9naaRd4V9du2B5bxpd8FEH3KtDgp8qVekw7Cj1GLk1IXdZi/pub?embedded=True).\n",
    "\n",
    "> The Udacity database included a table called player_attributes where I was able to obtain values for player interceptions, player's preferred foot, and player penalties. Another table called player was also combine with the player_attributes dataset to add the additional value of birthday. Birthday was used to calculate the player's age during the game."
   ]
  },
  {
   "cell_type": "code",
   "execution_count": 86,
   "metadata": {},
   "outputs": [],
   "source": [
    "# Use this cell to set up import statements for all of the packages that you\n",
    "#   plan to use.\n",
    "\n",
    "# Remember to include a 'magic word' so that your visualizations are plotted\n",
    "#   inline with the notebook. See this page for more:\n",
    "#   http://ipython.readthedocs.io/en/stable/interactive/magics.html\n",
    "\n",
    "import sqlite3\n",
    "import pandas as pd\n",
    "import numpy as np\n",
    "% matplotlib inline\n"
   ]
  },
  {
   "cell_type": "markdown",
   "metadata": {},
   "source": [
    "<a id='wrangling'></a>\n",
    "## Data Wrangling\n",
    "\n",
    "> The first step in this project is to gather and review the data. \n",
    "\n",
    "> The data was provided to me from Udacity in a sqlite database. I used the database to generate a python panda DataFrame."
   ]
  },
  {
   "cell_type": "code",
   "execution_count": 87,
   "metadata": {},
   "outputs": [
    {
     "name": "stdout",
     "output_type": "stream",
     "text": [
      "   player_fifa_api_id                 date preferred_foot  penalties  \\\n",
      "0              218353  2016-02-18 00:00:00          right       48.0   \n",
      "1              218353  2015-11-19 00:00:00          right       48.0   \n",
      "2              218353  2015-09-21 00:00:00          right       48.0   \n",
      "3              218353  2015-03-20 00:00:00          right       47.0   \n",
      "4              218353  2007-02-22 00:00:00          right       47.0   \n",
      "\n",
      "   interceptions             birthday  \n",
      "0           70.0  1992-02-29 00:00:00  \n",
      "1           70.0  1992-02-29 00:00:00  \n",
      "2           41.0  1992-02-29 00:00:00  \n",
      "3           40.0  1992-02-29 00:00:00  \n",
      "4           40.0  1992-02-29 00:00:00  \n"
     ]
    }
   ],
   "source": [
    "# Connect to the soccer database\n",
    "conn = sqlite3.connect(\"database.sqlite\")\n",
    "\n",
    "# Read database and save as panda DataFrame\n",
    "df = pd.read_sql_query(\"\"\"SELECT player_attributes.player_fifa_api_id,\n",
    "                                 player_attributes.date,\n",
    "                                 player_attributes.preferred_foot,\n",
    "                                 player_attributes.penalties,\n",
    "                                 player_attributes.interceptions,\n",
    "                                 player.birthday\n",
    "                          FROM player_attributes\n",
    "                          JOIN player ON player_attributes.player_fifa_api_id = player.player_fifa_api_id\"\"\", conn)\n",
    "\n",
    "print(df.head())\n",
    "\n",
    "# We've got everything we need from the database so close the database connection\n",
    "conn.close()"
   ]
  },
  {
   "cell_type": "markdown",
   "metadata": {},
   "source": [
    "### Review the data\n",
    "> Once the data was collected, I reviewed the dataset.\n",
    "\n",
    "> The data had some null values.  These values accounted for less than 2% of the total dataset.  Since the missing values were not significant, I chose to remove the values. \n",
    "\n",
    "> The date column and birthday column were transformed from string values to date values.  Since birthday is not a changing number, birthday was used to instead calculate player age at the time of the game date.\n",
    "\n",
    "> 126 duplicate rows were found in the database and removed from the dataset. "
   ]
  },
  {
   "cell_type": "code",
   "execution_count": 88,
   "metadata": {},
   "outputs": [
    {
     "name": "stdout",
     "output_type": "stream",
     "text": [
      "<class 'pandas.core.frame.DataFrame'>\n",
      "RangeIndex: 183929 entries, 0 to 183928\n",
      "Data columns (total 6 columns):\n",
      "player_fifa_api_id    183929 non-null int64\n",
      "date                  183929 non-null object\n",
      "preferred_foot        183142 non-null object\n",
      "penalties             183142 non-null float64\n",
      "interceptions         183142 non-null float64\n",
      "birthday              183929 non-null object\n",
      "dtypes: float64(2), int64(1), object(3)\n",
      "memory usage: 8.4+ MB\n",
      "None\n"
     ]
    }
   ],
   "source": [
    "# Check for missing values\n",
    "print(df.info())"
   ]
  },
  {
   "cell_type": "code",
   "execution_count": 89,
   "metadata": {},
   "outputs": [
    {
     "name": "stdout",
     "output_type": "stream",
     "text": [
      "       player_fifa_api_id                 date preferred_foot  penalties  \\\n",
      "483                 33022  2007-02-22 00:00:00           None        NaN   \n",
      "983                111085  2007-02-22 00:00:00           None        NaN   \n",
      "1752               165740  2007-02-22 00:00:00           None        NaN   \n",
      "2089               176941  2007-02-22 00:00:00           None        NaN   \n",
      "2482               177615  2007-02-22 00:00:00           None        NaN   \n",
      "2498               177713  2007-02-22 00:00:00           None        NaN   \n",
      "2540                 2115  2007-02-22 00:00:00           None        NaN   \n",
      "3283               152769  2007-02-22 00:00:00           None        NaN   \n",
      "4006               172176  2007-02-22 00:00:00           None        NaN   \n",
      "4202               140307  2007-02-22 00:00:00           None        NaN   \n",
      "4593               110375  2007-02-22 00:00:00           None        NaN   \n",
      "4801               178087  2007-02-22 00:00:00           None        NaN   \n",
      "4998               123617  2007-02-22 00:00:00           None        NaN   \n",
      "5120               158440  2007-02-22 00:00:00           None        NaN   \n",
      "5279                 6775  2007-02-22 00:00:00           None        NaN   \n",
      "5395               171315  2007-02-22 00:00:00           None        NaN   \n",
      "5751               175683  2007-02-22 00:00:00           None        NaN   \n",
      "7341               157503  2007-02-22 00:00:00           None        NaN   \n",
      "7421               192635  2007-02-22 00:00:00           None        NaN   \n",
      "7452               198394  2015-09-21 00:00:00           None        NaN   \n",
      "7454               198394  2015-01-09 00:00:00           None        NaN   \n",
      "7455               198394  2014-09-18 00:00:00           None        NaN   \n",
      "7458               198394  2013-09-20 00:00:00           None        NaN   \n",
      "7470               198394  2010-02-22 00:00:00           None        NaN   \n",
      "7471               198394  2007-02-22 00:00:00           None        NaN   \n",
      "7527               162223  2007-02-22 00:00:00           None        NaN   \n",
      "8042               152567  2007-02-22 00:00:00           None        NaN   \n",
      "8064               109416  2007-02-22 00:00:00           None        NaN   \n",
      "8084               111172  2007-02-22 00:00:00           None        NaN   \n",
      "8186               135743  2007-02-22 00:00:00           None        NaN   \n",
      "...                   ...                  ...            ...        ...   \n",
      "16912              153298  2007-02-22 00:00:00           None        NaN   \n",
      "17100               49116  2007-02-22 00:00:00           None        NaN   \n",
      "17155              171189  2007-02-22 00:00:00           None        NaN   \n",
      "17262              177790  2007-02-22 00:00:00           None        NaN   \n",
      "17583               34079  2007-02-22 00:00:00           None        NaN   \n",
      "17659              152908  2007-02-22 00:00:00           None        NaN   \n",
      "17928              134744  2007-02-22 00:00:00           None        NaN   \n",
      "18144                1880  2007-02-22 00:00:00           None        NaN   \n",
      "18251              177413  2007-02-22 00:00:00           None        NaN   \n",
      "18330              135656  2007-02-22 00:00:00           None        NaN   \n",
      "18889              172050  2007-02-22 00:00:00           None        NaN   \n",
      "19060               43020  2007-02-22 00:00:00           None        NaN   \n",
      "19095                 838  2007-02-22 00:00:00           None        NaN   \n",
      "19269               49486  2007-02-22 00:00:00           None        NaN   \n",
      "19309              148758  2007-02-22 00:00:00           None        NaN   \n",
      "19373              165010  2007-02-22 00:00:00           None        NaN   \n",
      "19760              163670  2007-02-22 00:00:00           None        NaN   \n",
      "19786              163621  2007-02-22 00:00:00           None        NaN   \n",
      "20114              179784  2007-02-22 00:00:00           None        NaN   \n",
      "20482               10468  2007-02-22 00:00:00           None        NaN   \n",
      "20941               41874  2007-02-22 00:00:00           None        NaN   \n",
      "21152              154454  2007-02-22 00:00:00           None        NaN   \n",
      "21311              116334  2007-02-22 00:00:00           None        NaN   \n",
      "21644              158879  2007-02-22 00:00:00           None        NaN   \n",
      "21788              148480  2007-02-22 00:00:00           None        NaN   \n",
      "21847              138699  2007-02-22 00:00:00           None        NaN   \n",
      "22270              110787  2007-02-22 00:00:00           None        NaN   \n",
      "22778              152536  2007-02-22 00:00:00           None        NaN   \n",
      "22805              165735  2007-02-22 00:00:00           None        NaN   \n",
      "23243               46815  2007-02-22 00:00:00           None        NaN   \n",
      "\n",
      "       interceptions             birthday  \n",
      "483              NaN  1978-11-01 00:00:00  \n",
      "983              NaN  1982-02-20 00:00:00  \n",
      "1752             NaN  1987-07-14 00:00:00  \n",
      "2089             NaN  1988-04-21 00:00:00  \n",
      "2482             NaN  1988-02-21 00:00:00  \n",
      "2498             NaN  1986-06-27 00:00:00  \n",
      "2540             NaN  1977-07-14 00:00:00  \n",
      "3283             NaN  1980-01-29 00:00:00  \n",
      "4006             NaN  1982-05-07 00:00:00  \n",
      "4202             NaN  1982-10-09 00:00:00  \n",
      "4593             NaN  1982-05-13 00:00:00  \n",
      "4801             NaN  1988-03-20 00:00:00  \n",
      "4998             NaN  1974-12-02 00:00:00  \n",
      "5120             NaN  1983-05-04 00:00:00  \n",
      "5279             NaN  1979-03-22 00:00:00  \n",
      "5395             NaN  1986-11-23 00:00:00  \n",
      "5751             NaN  1982-10-23 00:00:00  \n",
      "7341             NaN  1987-09-09 00:00:00  \n",
      "7421             NaN  1989-01-13 00:00:00  \n",
      "7452             NaN  1991-08-13 00:00:00  \n",
      "7454             NaN  1991-08-13 00:00:00  \n",
      "7455             NaN  1991-08-13 00:00:00  \n",
      "7458             NaN  1991-08-13 00:00:00  \n",
      "7470             NaN  1991-08-13 00:00:00  \n",
      "7471             NaN  1991-08-13 00:00:00  \n",
      "7527             NaN  1987-01-23 00:00:00  \n",
      "8042             NaN  1986-04-04 00:00:00  \n",
      "8064             NaN  1982-11-27 00:00:00  \n",
      "8084             NaN  1982-06-17 00:00:00  \n",
      "8186             NaN  1982-09-05 00:00:00  \n",
      "...              ...                  ...  \n",
      "16912            NaN  1985-01-28 00:00:00  \n",
      "17100            NaN  1983-04-02 00:00:00  \n",
      "17155            NaN  1986-04-02 00:00:00  \n",
      "17262            NaN  1987-11-04 00:00:00  \n",
      "17583            NaN  1980-12-20 00:00:00  \n",
      "17659            NaN  1985-07-09 00:00:00  \n",
      "17928            NaN  1983-02-08 00:00:00  \n",
      "18144            NaN  1980-01-21 00:00:00  \n",
      "18251            NaN  1989-01-12 00:00:00  \n",
      "18330            NaN  1982-05-25 00:00:00  \n",
      "18889            NaN  1985-05-14 00:00:00  \n",
      "19060            NaN  1978-02-02 00:00:00  \n",
      "19095            NaN  1978-08-24 00:00:00  \n",
      "19269            NaN  1984-10-01 00:00:00  \n",
      "19309            NaN  1981-06-09 00:00:00  \n",
      "19373            NaN  1984-04-18 00:00:00  \n",
      "19760            NaN  1985-02-09 00:00:00  \n",
      "19786            NaN  1987-01-01 00:00:00  \n",
      "20114            NaN  1988-02-29 00:00:00  \n",
      "20482            NaN  1981-08-13 00:00:00  \n",
      "20941            NaN  1980-11-12 00:00:00  \n",
      "21152            NaN  1979-07-06 00:00:00  \n",
      "21311            NaN  1977-04-13 00:00:00  \n",
      "21644            NaN  1988-03-05 00:00:00  \n",
      "21788            NaN  1984-06-06 00:00:00  \n",
      "21847            NaN  1986-04-12 00:00:00  \n",
      "22270            NaN  1981-01-14 00:00:00  \n",
      "22778            NaN  1987-04-28 00:00:00  \n",
      "22805            NaN  1982-03-19 00:00:00  \n",
      "23243            NaN  1981-06-20 00:00:00  \n",
      "\n",
      "[100 rows x 6 columns]\n"
     ]
    }
   ],
   "source": [
    "# There are 183,929 columns in this data set.  \n",
    "# It looks like preferred_foot, penalties, and interceptions have missing values.\n",
    "\n",
    "# Let's take a look at which values are missing.\n",
    "missing_values = df[df.isnull().any(axis=1)]\n",
    "print(missing_values.head(100))"
   ]
  },
  {
   "cell_type": "code",
   "execution_count": 90,
   "metadata": {},
   "outputs": [
    {
     "name": "stdout",
     "output_type": "stream",
     "text": [
      "                     player_fifa_api_id  date  preferred_foot  penalties  \\\n",
      "date                                                                       \n",
      "2007-02-22 00:00:00                 731     1               0          0   \n",
      "2007-08-30 00:00:00                   1     1               0          0   \n",
      "2008-08-30 00:00:00                   2     1               0          0   \n",
      "2009-02-22 00:00:00                   1     1               0          0   \n",
      "2009-08-30 00:00:00                   2     1               0          0   \n",
      "2010-02-22 00:00:00                   2     1               0          0   \n",
      "2010-08-30 00:00:00                   1     1               0          0   \n",
      "2011-02-22 00:00:00                   1     1               0          0   \n",
      "2011-08-30 00:00:00                   3     1               0          0   \n",
      "2012-02-22 00:00:00                   1     1               0          0   \n",
      "2012-08-31 00:00:00                   2     1               0          0   \n",
      "2013-02-15 00:00:00                   2     1               0          0   \n",
      "2013-09-20 00:00:00                  28     1               0          0   \n",
      "2014-02-21 00:00:00                   1     1               0          0   \n",
      "2014-09-18 00:00:00                   3     1               0          0   \n",
      "2014-10-10 00:00:00                   1     1               0          0   \n",
      "2015-01-09 00:00:00                   1     1               0          0   \n",
      "2015-09-21 00:00:00                   2     1               0          0   \n",
      "\n",
      "                     interceptions  birthday  \n",
      "date                                          \n",
      "2007-02-22 00:00:00              0       688  \n",
      "2007-08-30 00:00:00              0         1  \n",
      "2008-08-30 00:00:00              0         2  \n",
      "2009-02-22 00:00:00              0         1  \n",
      "2009-08-30 00:00:00              0         2  \n",
      "2010-02-22 00:00:00              0         2  \n",
      "2010-08-30 00:00:00              0         1  \n",
      "2011-02-22 00:00:00              0         1  \n",
      "2011-08-30 00:00:00              0         3  \n",
      "2012-02-22 00:00:00              0         1  \n",
      "2012-08-31 00:00:00              0         2  \n",
      "2013-02-15 00:00:00              0         2  \n",
      "2013-09-20 00:00:00              0        28  \n",
      "2014-02-21 00:00:00              0         1  \n",
      "2014-09-18 00:00:00              0         3  \n",
      "2014-10-10 00:00:00              0         1  \n",
      "2015-01-09 00:00:00              0         1  \n",
      "2015-09-21 00:00:00              0         2  \n"
     ]
    }
   ],
   "source": [
    "# It looks like games on 2/22/2007 have missing data. let's see how many dates in total are missing:\n",
    "print(missing_values.groupby('date').nunique())"
   ]
  },
  {
   "cell_type": "code",
   "execution_count": 91,
   "metadata": {},
   "outputs": [
    {
     "name": "stdout",
     "output_type": "stream",
     "text": [
      "<class 'pandas.core.frame.DataFrame'>\n",
      "Int64Index: 183142 entries, 0 to 183928\n",
      "Data columns (total 6 columns):\n",
      "player_fifa_api_id    183142 non-null int64\n",
      "date                  183142 non-null object\n",
      "preferred_foot        183142 non-null object\n",
      "penalties             183142 non-null float64\n",
      "interceptions         183142 non-null float64\n",
      "birthday              183142 non-null object\n",
      "dtypes: float64(2), int64(1), object(3)\n",
      "memory usage: 9.8+ MB\n",
      "None\n"
     ]
    }
   ],
   "source": [
    "# The majority of missing values come from 2/22/2007.  There are also a few missing values on other dates.\n",
    "\n",
    "# For this project, I am going to drop the null values. \n",
    "# Even with the dropped values, our dataset will have 183,142 values left for calcuation which is a large sample size. \n",
    "# Also, the missing values account for less than 2% of the original dataset and only one date will be lost.\n",
    "\n",
    "df.dropna(inplace=True)\n",
    "print(df.info())"
   ]
  },
  {
   "cell_type": "code",
   "execution_count": 92,
   "metadata": {},
   "outputs": [
    {
     "name": "stdout",
     "output_type": "stream",
     "text": [
      "   player_fifa_api_id       date preferred_foot  penalties  interceptions  \\\n",
      "0              218353 2016-02-18          right       48.0           70.0   \n",
      "1              218353 2015-11-19          right       48.0           70.0   \n",
      "2              218353 2015-09-21          right       48.0           41.0   \n",
      "3              218353 2015-03-20          right       47.0           40.0   \n",
      "4              218353 2007-02-22          right       47.0           40.0   \n",
      "\n",
      "    birthday  age_during_game  \n",
      "0 1992-02-29               23  \n",
      "1 1992-02-29               23  \n",
      "2 1992-02-29               23  \n",
      "3 1992-02-29               23  \n",
      "4 1992-02-29               14  \n"
     ]
    }
   ],
   "source": [
    "# Incorrect Datatypes\n",
    "\n",
    "# I'm going to change date fields from strings to dates for better data manipulation. \n",
    "df['date'] = pd.to_datetime(df['date'])\n",
    "df['birthday'] = pd.to_datetime(df['birthday'])\n",
    "\n",
    "# Birthday isn't super useful.  What I really want is the player's age during the game\n",
    "# Stack Overflow helped with the calcuation\n",
    "df['age_during_game'] =  (df['date'] - df['birthday']).apply(lambda age_in_days: int(float(age_in_days.days)/365))\n",
    "\n",
    "print(df.head(5))"
   ]
  },
  {
   "cell_type": "code",
   "execution_count": 93,
   "metadata": {},
   "outputs": [
    {
     "name": "stdout",
     "output_type": "stream",
     "text": [
      "preferred_foot     2\n",
      "penalties          2\n",
      "interceptions      2\n",
      "birthday           2\n",
      "age_during_game    2\n",
      "dtype: int64\n"
     ]
    }
   ],
   "source": [
    "# let's check player_fifa_api_id and date.  Ideally, one player should only have one set of score per game\n",
    "print(df.groupby(['player_fifa_api_id', 'date']).count().max())"
   ]
  },
  {
   "cell_type": "code",
   "execution_count": 94,
   "metadata": {},
   "outputs": [
    {
     "name": "stdout",
     "output_type": "stream",
     "text": [
      "<class 'pandas.core.frame.DataFrame'>\n",
      "Int64Index: 126 entries, 7447 to 161452\n",
      "Data columns (total 7 columns):\n",
      "player_fifa_api_id    126 non-null int64\n",
      "date                  126 non-null datetime64[ns]\n",
      "preferred_foot        126 non-null object\n",
      "penalties             126 non-null float64\n",
      "interceptions         126 non-null float64\n",
      "birthday              126 non-null datetime64[ns]\n",
      "age_during_game       126 non-null int64\n",
      "dtypes: datetime64[ns](2), float64(2), int64(2), object(1)\n",
      "memory usage: 7.9+ KB\n",
      "None\n",
      "\n",
      "<class 'pandas.core.frame.DataFrame'>\n",
      "Int64Index: 126 entries, 7447 to 161452\n",
      "Data columns (total 7 columns):\n",
      "player_fifa_api_id    126 non-null int64\n",
      "date                  126 non-null datetime64[ns]\n",
      "preferred_foot        126 non-null object\n",
      "penalties             126 non-null float64\n",
      "interceptions         126 non-null float64\n",
      "birthday              126 non-null datetime64[ns]\n",
      "age_during_game       126 non-null int64\n",
      "dtypes: datetime64[ns](2), float64(2), int64(2), object(1)\n",
      "memory usage: 7.9+ KB\n",
      "None\n"
     ]
    }
   ],
   "source": [
    "#  It looks like we have some duplicates in our system.  Let's check and make sure they are full duplicates.\n",
    "\n",
    "print(df[df.duplicated()].info()) # 126 full diplucates\n",
    "\n",
    "print()\n",
    "\n",
    "print(df[df.duplicated(['player_fifa_api_id', 'date'])].info()) # 126 ['player_fifa_api_id', 'date'] duplicates"
   ]
  },
  {
   "cell_type": "code",
   "execution_count": 95,
   "metadata": {},
   "outputs": [
    {
     "name": "stdout",
     "output_type": "stream",
     "text": [
      "<class 'pandas.core.frame.DataFrame'>\n",
      "Int64Index: 183016 entries, 0 to 183928\n",
      "Data columns (total 7 columns):\n",
      "player_fifa_api_id    183016 non-null int64\n",
      "date                  183016 non-null datetime64[ns]\n",
      "preferred_foot        183016 non-null object\n",
      "penalties             183016 non-null float64\n",
      "interceptions         183016 non-null float64\n",
      "birthday              183016 non-null datetime64[ns]\n",
      "age_during_game       183016 non-null int64\n",
      "dtypes: datetime64[ns](2), float64(2), int64(2), object(1)\n",
      "memory usage: 11.2+ MB\n",
      "None\n"
     ]
    }
   ],
   "source": [
    "# Since they are full duplicates, I am going to drop the duplicate values. \n",
    "df.drop_duplicates(inplace=True)\n",
    "\n",
    "print(df.info())"
   ]
  },
  {
   "cell_type": "markdown",
   "metadata": {},
   "source": [
    "<a id='eda'></a>\n",
    "## Exploratory Data Analysis\n",
    "\n",
    "> **Tip**: Now that you've trimmed and cleaned your data, you're ready to move on to exploration. Compute statistics and create visualizations with the goal of addressing the research questions that you posed in the Introduction section. It is recommended that you be systematic with your approach. Look at one variable at a time, and then follow it up by looking at relationships between variables.\n",
    "\n",
    "### Review Interception Data"
   ]
  },
  {
   "cell_type": "code",
   "execution_count": 111,
   "metadata": {},
   "outputs": [
    {
     "name": "stdout",
     "output_type": "stream",
     "text": [
      "AxesSubplot(0.125,0.125;0.775x0.755)\n"
     ]
    },
    {
     "data": {
      "image/png": "[encoded data removed]",
      "text/plain": [
       "<Figure size 432x288 with 1 Axes>"
      ]
     },
     "metadata": {},
     "output_type": "display_data"
    }
   ],
   "source": [
    "print(df['interceptions'].hist())"
   ]
  },
  {
   "cell_type": "markdown",
   "metadata": {},
   "source": [
    "### Review Preferred Foot"
   ]
  },
  {
   "cell_type": "code",
   "execution_count": 110,
   "metadata": {},
   "outputs": [
    {
     "name": "stdout",
     "output_type": "stream",
     "text": [
      "AxesSubplot(0.125,0.125;0.775x0.755)\n"
     ]
    },
    {
     "data": {
      "image/png": "[encoded data removed]",
      "text/plain": [
       "<Figure size 576x576 with 1 Axes>"
      ]
     },
     "metadata": {},
     "output_type": "display_data"
    }
   ],
   "source": [
    "print(df['preferred_foot'].value_counts().plot(kind='bar'))"
   ]
  },
  {
   "cell_type": "code",
   "execution_count": 114,
   "metadata": {},
   "outputs": [
    {
     "name": "stdout",
     "output_type": "stream",
     "text": [
      "AxesSubplot(0.125,0.125;0.775x0.755)\n"
     ]
    },
    {
     "data": {
      "image/png": "[encoded data removed]",
      "text/plain": [
       "<Figure size 432x432 with 1 Axes>"
      ]
     },
     "metadata": {},
     "output_type": "display_data"
    }
   ],
   "source": [
    "print(df['preferred_foot'].value_counts().plot(kind='pie', figsize=(6, 6)))"
   ]
  },
  {
   "cell_type": "markdown",
   "metadata": {},
   "source": [
    "### Review Penalties"
   ]
  },
  {
   "cell_type": "code",
   "execution_count": 115,
   "metadata": {},
   "outputs": [
    {
     "name": "stdout",
     "output_type": "stream",
     "text": [
      "AxesSubplot(0.125,0.125;0.775x0.755)\n"
     ]
    },
    {
     "data": {
      "image/png": "[encoded data removed]",
      "text/plain": [
       "<Figure size 432x288 with 1 Axes>"
      ]
     },
     "metadata": {},
     "output_type": "display_data"
    }
   ],
   "source": [
    "print(df['penalties'].hist())"
   ]
  },
  {
   "cell_type": "markdown",
   "metadata": {},
   "source": [
    "### Review Age During Game"
   ]
  },
  {
   "cell_type": "code",
   "execution_count": 116,
   "metadata": {},
   "outputs": [
    {
     "name": "stdout",
     "output_type": "stream",
     "text": [
      "AxesSubplot(0.125,0.125;0.775x0.755)\n"
     ]
    },
    {
     "data": {
      "image/png": "[encoded data removed]",
      "text/plain": [
       "<Figure size 432x288 with 1 Axes>"
      ]
     },
     "metadata": {},
     "output_type": "display_data"
    }
   ],
   "source": [
    "print(df['age_during_game'].hist())"
   ]
  },
  {
   "cell_type": "code",
   "execution_count": 117,
   "metadata": {},
   "outputs": [
    {
     "name": "stdout",
     "output_type": "stream",
     "text": [
      "AxesSubplot(0.125,0.125;0.775x0.755)\n"
     ]
    },
    {
     "data": {
      "image/png": "[encoded data removed]",
      "text/plain": [
       "<Figure size 432x432 with 1 Axes>"
      ]
     },
     "metadata": {},
     "output_type": "display_data"
    }
   ],
   "source": [
    "print(df['age_during_game'].value_counts().plot(kind='pie', figsize=(6, 6)))"
   ]
  },
  {
   "cell_type": "markdown",
   "metadata": {},
   "source": [
    "### Research Question 1 (Replace this header name!)"
   ]
  },
  {
   "cell_type": "code",
   "execution_count": null,
   "metadata": {
    "collapsed": true
   },
   "outputs": [],
   "source": [
    "# Use this, and more code cells, to explore your data. Don't forget to add\n",
    "#   Markdown cells to document your observations and findings.\n"
   ]
  },
  {
   "cell_type": "markdown",
   "metadata": {},
   "source": [
    "### Research Question 2  (Replace this header name!)"
   ]
  },
  {
   "cell_type": "code",
   "execution_count": null,
   "metadata": {
    "collapsed": true
   },
   "outputs": [],
   "source": [
    "# Continue to explore the data to address your additional research\n",
    "#   questions. Add more headers as needed if you have more questions to\n",
    "#   investigate.\n"
   ]
  },
  {
   "cell_type": "markdown",
   "metadata": {},
   "source": [
    "<a id='conclusions'></a>\n",
    "## Conclusions\n",
    "\n",
    "> **Tip**: Finally, summarize your findings and the results that have been performed. Make sure that you are clear with regards to the limitations of your exploration. If you haven't done any statistical tests, do not imply any statistical conclusions. And make sure you avoid implying causation from correlation!\n",
    "\n",
    "> **Tip**: Once you are satisfied with your work here, check over your report to make sure that it is satisfies all the areas of the rubric (found on the project submission page at the end of the lesson). You should also probably remove all of the \"Tips\" like this one so that the presentation is as polished as possible.\n",
    "\n",
    "## Submitting your Project \n",
    "\n",
    "> Before you submit your project, you need to create a .html or .pdf version of this notebook in the workspace here. To do that, run the code cell below. If it worked correctly, you should get a return code of 0, and you should see the generated .html file in the workspace directory (click on the orange Jupyter icon in the upper left).\n",
    "\n",
    "> Alternatively, you can download this report as .html via the **File** > **Download as** submenu, and then manually upload it into the workspace directory by clicking on the orange Jupyter icon in the upper left, then using the Upload button.\n",
    "\n",
    "> Once you've done this, you can submit your project by clicking on the \"Submit Project\" button in the lower right here. This will create and submit a zip file with this .ipynb doc and the .html or .pdf version you created. Congratulations!"
   ]
  },
  {
   "cell_type": "code",
   "execution_count": null,
   "metadata": {
    "collapsed": true
   },
   "outputs": [],
   "source": [
    "from subprocess import call\n",
    "call(['python', '-m', 'nbconvert', 'Investigate_a_Dataset.ipynb'])"
   ]
  }
 ],
 "metadata": {
  "kernelspec": {
   "display_name": "Python 3",
   "language": "python",
   "name": "python3"
  },
  "language_info": {
   "codemirror_mode": {
    "name": "ipython",
    "version": 3
   },
   "file_extension": ".py",
   "mimetype": "text/x-python",
   "name": "python",
   "nbconvert_exporter": "python",
   "pygments_lexer": "ipython3",
   "version": "3.6.4"
  }
 },
 "nbformat": 4,
 "nbformat_minor": 2
}
